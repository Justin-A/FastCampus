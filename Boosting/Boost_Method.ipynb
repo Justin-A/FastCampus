{
 "cells": [
  {
   "cell_type": "code",
   "execution_count": 1,
   "metadata": {},
   "outputs": [],
   "source": [
    "import os\n",
    "import pandas as pd\n",
    "import numpy as np\n",
    "from sklearn.model_selection import train_test_split\n",
    "from sklearn.metrics import accuracy_score"
   ]
  },
  {
   "cell_type": "code",
   "execution_count": 2,
   "metadata": {},
   "outputs": [
    {
     "data": {
      "text/plain": [
       "'C:\\\\Users\\\\Justin\\\\Desktop\\\\SSL\\\\FastCampus\\\\Boost_Method'"
      ]
     },
     "execution_count": 2,
     "metadata": {},
     "output_type": "execute_result"
    }
   ],
   "source": [
    "# 현재경로 확인\n",
    "os.getcwd()"
   ]
  },
  {
   "cell_type": "code",
   "execution_count": 3,
   "metadata": {},
   "outputs": [
    {
     "data": {
      "text/html": [
       "<div>\n",
       "<style scoped>\n",
       "    .dataframe tbody tr th:only-of-type {\n",
       "        vertical-align: middle;\n",
       "    }\n",
       "\n",
       "    .dataframe tbody tr th {\n",
       "        vertical-align: top;\n",
       "    }\n",
       "\n",
       "    .dataframe thead th {\n",
       "        text-align: right;\n",
       "    }\n",
       "</style>\n",
       "<table border=\"1\" class=\"dataframe\">\n",
       "  <thead>\n",
       "    <tr style=\"text-align: right;\">\n",
       "      <th></th>\n",
       "      <th>id</th>\n",
       "      <th>feat_1</th>\n",
       "      <th>feat_2</th>\n",
       "      <th>feat_3</th>\n",
       "      <th>feat_4</th>\n",
       "      <th>feat_5</th>\n",
       "      <th>feat_6</th>\n",
       "      <th>feat_7</th>\n",
       "      <th>feat_8</th>\n",
       "      <th>feat_9</th>\n",
       "      <th>...</th>\n",
       "      <th>feat_85</th>\n",
       "      <th>feat_86</th>\n",
       "      <th>feat_87</th>\n",
       "      <th>feat_88</th>\n",
       "      <th>feat_89</th>\n",
       "      <th>feat_90</th>\n",
       "      <th>feat_91</th>\n",
       "      <th>feat_92</th>\n",
       "      <th>feat_93</th>\n",
       "      <th>target</th>\n",
       "    </tr>\n",
       "  </thead>\n",
       "  <tbody>\n",
       "    <tr>\n",
       "      <th>0</th>\n",
       "      <td>1</td>\n",
       "      <td>1</td>\n",
       "      <td>0</td>\n",
       "      <td>0</td>\n",
       "      <td>0</td>\n",
       "      <td>0</td>\n",
       "      <td>0</td>\n",
       "      <td>0</td>\n",
       "      <td>0</td>\n",
       "      <td>0</td>\n",
       "      <td>...</td>\n",
       "      <td>1</td>\n",
       "      <td>0</td>\n",
       "      <td>0</td>\n",
       "      <td>0</td>\n",
       "      <td>0</td>\n",
       "      <td>0</td>\n",
       "      <td>0</td>\n",
       "      <td>0</td>\n",
       "      <td>0</td>\n",
       "      <td>Class_1</td>\n",
       "    </tr>\n",
       "    <tr>\n",
       "      <th>1</th>\n",
       "      <td>2</td>\n",
       "      <td>0</td>\n",
       "      <td>0</td>\n",
       "      <td>0</td>\n",
       "      <td>0</td>\n",
       "      <td>0</td>\n",
       "      <td>0</td>\n",
       "      <td>0</td>\n",
       "      <td>1</td>\n",
       "      <td>0</td>\n",
       "      <td>...</td>\n",
       "      <td>0</td>\n",
       "      <td>0</td>\n",
       "      <td>0</td>\n",
       "      <td>0</td>\n",
       "      <td>0</td>\n",
       "      <td>0</td>\n",
       "      <td>0</td>\n",
       "      <td>0</td>\n",
       "      <td>0</td>\n",
       "      <td>Class_1</td>\n",
       "    </tr>\n",
       "    <tr>\n",
       "      <th>2</th>\n",
       "      <td>3</td>\n",
       "      <td>0</td>\n",
       "      <td>0</td>\n",
       "      <td>0</td>\n",
       "      <td>0</td>\n",
       "      <td>0</td>\n",
       "      <td>0</td>\n",
       "      <td>0</td>\n",
       "      <td>1</td>\n",
       "      <td>0</td>\n",
       "      <td>...</td>\n",
       "      <td>0</td>\n",
       "      <td>0</td>\n",
       "      <td>0</td>\n",
       "      <td>0</td>\n",
       "      <td>0</td>\n",
       "      <td>0</td>\n",
       "      <td>0</td>\n",
       "      <td>0</td>\n",
       "      <td>0</td>\n",
       "      <td>Class_1</td>\n",
       "    </tr>\n",
       "    <tr>\n",
       "      <th>3</th>\n",
       "      <td>4</td>\n",
       "      <td>1</td>\n",
       "      <td>0</td>\n",
       "      <td>0</td>\n",
       "      <td>1</td>\n",
       "      <td>6</td>\n",
       "      <td>1</td>\n",
       "      <td>5</td>\n",
       "      <td>0</td>\n",
       "      <td>0</td>\n",
       "      <td>...</td>\n",
       "      <td>0</td>\n",
       "      <td>1</td>\n",
       "      <td>2</td>\n",
       "      <td>0</td>\n",
       "      <td>0</td>\n",
       "      <td>0</td>\n",
       "      <td>0</td>\n",
       "      <td>0</td>\n",
       "      <td>0</td>\n",
       "      <td>Class_1</td>\n",
       "    </tr>\n",
       "    <tr>\n",
       "      <th>4</th>\n",
       "      <td>5</td>\n",
       "      <td>0</td>\n",
       "      <td>0</td>\n",
       "      <td>0</td>\n",
       "      <td>0</td>\n",
       "      <td>0</td>\n",
       "      <td>0</td>\n",
       "      <td>0</td>\n",
       "      <td>0</td>\n",
       "      <td>0</td>\n",
       "      <td>...</td>\n",
       "      <td>1</td>\n",
       "      <td>0</td>\n",
       "      <td>0</td>\n",
       "      <td>0</td>\n",
       "      <td>0</td>\n",
       "      <td>1</td>\n",
       "      <td>0</td>\n",
       "      <td>0</td>\n",
       "      <td>0</td>\n",
       "      <td>Class_1</td>\n",
       "    </tr>\n",
       "  </tbody>\n",
       "</table>\n",
       "<p>5 rows × 95 columns</p>\n",
       "</div>"
      ],
      "text/plain": [
       "   id  feat_1  feat_2  feat_3  feat_4  feat_5  feat_6  feat_7  feat_8  feat_9  \\\n",
       "0   1       1       0       0       0       0       0       0       0       0   \n",
       "1   2       0       0       0       0       0       0       0       1       0   \n",
       "2   3       0       0       0       0       0       0       0       1       0   \n",
       "3   4       1       0       0       1       6       1       5       0       0   \n",
       "4   5       0       0       0       0       0       0       0       0       0   \n",
       "\n",
       "   ...  feat_85  feat_86  feat_87  feat_88  feat_89  feat_90  feat_91  \\\n",
       "0  ...        1        0        0        0        0        0        0   \n",
       "1  ...        0        0        0        0        0        0        0   \n",
       "2  ...        0        0        0        0        0        0        0   \n",
       "3  ...        0        1        2        0        0        0        0   \n",
       "4  ...        1        0        0        0        0        1        0   \n",
       "\n",
       "   feat_92  feat_93   target  \n",
       "0        0        0  Class_1  \n",
       "1        0        0  Class_1  \n",
       "2        0        0  Class_1  \n",
       "3        0        0  Class_1  \n",
       "4        0        0  Class_1  \n",
       "\n",
       "[5 rows x 95 columns]"
      ]
     },
     "execution_count": 3,
     "metadata": {},
     "output_type": "execute_result"
    }
   ],
   "source": [
    "# 데이터 불러오기\n",
    "data = pd.read_csv(\"../Data/otto_train.csv\") # Product Category\n",
    "data.head() # 데이터 확인"
   ]
  },
  {
   "cell_type": "code",
   "execution_count": 4,
   "metadata": {},
   "outputs": [
    {
     "data": {
      "text/plain": [
       "'\\nid: 고유 아이디\\nfeat_1 ~ feat_93: 설명변수\\ntarget: 타겟변수 (1~9)\\n'"
      ]
     },
     "execution_count": 4,
     "metadata": {},
     "output_type": "execute_result"
    }
   ],
   "source": [
    "'''\n",
    "id: 고유 아이디\n",
    "feat_1 ~ feat_93: 설명변수\n",
    "target: 타겟변수 (1~9)\n",
    "'''"
   ]
  },
  {
   "cell_type": "code",
   "execution_count": 5,
   "metadata": {},
   "outputs": [
    {
     "name": "stdout",
     "output_type": "stream",
     "text": [
      "nCar: 61878 nVar: 95\n"
     ]
    }
   ],
   "source": [
    "nCar = data.shape[0] # 데이터 개수\n",
    "nVar = data.shape[1] # 변수 개수\n",
    "print('nCar: %d' % nCar, 'nVar: %d' % nVar )"
   ]
  },
  {
   "cell_type": "markdown",
   "metadata": {},
   "source": [
    "## 의미가 없다고 판단되는 변수 제거"
   ]
  },
  {
   "cell_type": "code",
   "execution_count": 6,
   "metadata": {},
   "outputs": [],
   "source": [
    "data = data.drop(['id'], axis = 1) # id 제거"
   ]
  },
  {
   "cell_type": "markdown",
   "metadata": {},
   "source": [
    "## 타겟 변수의 문자열을 숫자로 변환"
   ]
  },
  {
   "cell_type": "code",
   "execution_count": 7,
   "metadata": {},
   "outputs": [],
   "source": [
    "mapping_dict = {\"Class_1\": 1,\n",
    "                \"Class_2\": 2,\n",
    "                \"Class_3\": 3,\n",
    "                \"Class_4\": 4,\n",
    "                \"Class_5\": 5,\n",
    "                \"Class_6\": 6,\n",
    "                \"Class_7\": 7,\n",
    "                \"Class_8\": 8,\n",
    "                \"Class_9\": 9}\n",
    "after_mapping_target = data['target'].apply(lambda x: mapping_dict[x])"
   ]
  },
  {
   "cell_type": "markdown",
   "metadata": {},
   "source": [
    "## 설명변수와 타겟변수를 분리, 학습데이터와 평가데이터 분리"
   ]
  },
  {
   "cell_type": "code",
   "execution_count": 8,
   "metadata": {},
   "outputs": [
    {
     "name": "stdout",
     "output_type": "stream",
     "text": [
      "(49502, 93) (12376, 93) (49502,) (12376,)\n"
     ]
    }
   ],
   "source": [
    "feature_columns = list(data.columns.difference(['target'])) # target을 제외한 모든 행\n",
    "X = data[feature_columns] # 설명변수\n",
    "y = after_mapping_target # 타겟변수\n",
    "train_x, test_x, train_y, test_y = train_test_split(X, y, test_size = 0.2, random_state = 42) # 학습데이터와 평가데이터의 비율을 8:2 로 분할| \n",
    "print(train_x.shape, test_x.shape, train_y.shape, test_y.shape) # 데이터 개수 확인"
   ]
  },
  {
   "cell_type": "code",
   "execution_count": 9,
   "metadata": {},
   "outputs": [
    {
     "data": {
      "text/plain": [
       "pandas.core.frame.DataFrame"
      ]
     },
     "execution_count": 9,
     "metadata": {},
     "output_type": "execute_result"
    }
   ],
   "source": [
    "type(train_x)"
   ]
  },
  {
   "cell_type": "markdown",
   "metadata": {},
   "source": [
    "## 1. XGBoost"
   ]
  },
  {
   "cell_type": "code",
   "execution_count": 9,
   "metadata": {},
   "outputs": [
    {
     "name": "stderr",
     "output_type": "stream",
     "text": [
      "C:\\Users\\Justin\\AppData\\Local\\Continuum\\anaconda3\\lib\\site-packages\\xgboost\\core.py:587: FutureWarning: Series.base is deprecated and will be removed in a future version\n",
      "  if getattr(data, 'base', None) is not None and \\\n"
     ]
    },
    {
     "name": "stdout",
     "output_type": "stream",
     "text": [
      "Accuracy: 76.67 %\n",
      "Time: 8.23 seconds\n"
     ]
    }
   ],
   "source": [
    "# !pip install xgboost\n",
    "import xgboost as xgb\n",
    "import time\n",
    "start = time.time() # 시작 시간 지정\n",
    "xgb_dtrain = xgb.DMatrix(data = train_x, label = train_y) # 학습 데이터를 XGBoost 모델에 맞게 변환\n",
    "xgb_dtest = xgb.DMatrix(data = test_x) # 평가 데이터를 XGBoost 모델에 맞게 변환\n",
    "xgb_param = {'max_depth': 10, # 트리 깊이\n",
    "         'learning_rate': 0.01, # Step Size\n",
    "         'n_estimators': 100, # Number of trees, 트리 생성 개수\n",
    "         'objective': 'multi:softmax', # 목적 함수\n",
    "        'num_class': len(set(train_y)) + 1} # 파라미터 추가, Label must be in [0, num_class) -> num_class보다 1 커야한다.\n",
    "xgb_model = xgb.train(params = xgb_param, dtrain = xgb_dtrain) # 학습 진행\n",
    "xgb_model_predict = xgb_model.predict(xgb_dtest) # 평가 데이터 예측\n",
    "print(\"Accuracy: %.2f\" % (accuracy_score(test_y, xgb_model_predict) * 100), \"%\") # 정확도 % 계산\n",
    "print(\"Time: %.2f\" % (time.time() - start), \"seconds\") # 코드 실행 시간 계산"
   ]
  },
  {
   "cell_type": "markdown",
   "metadata": {},
   "source": [
    "## 2. LightGBM"
   ]
  },
  {
   "cell_type": "code",
   "execution_count": 10,
   "metadata": {},
   "outputs": [
    {
     "name": "stderr",
     "output_type": "stream",
     "text": [
      "C:\\Users\\Justin\\AppData\\Local\\Continuum\\anaconda3\\lib\\site-packages\\lightgbm\\engine.py:118: UserWarning: Found `n_estimators` in params. Will use it instead of argument\n",
      "  warnings.warn(\"Found `{}` in params. Will use it instead of argument\".format(alias))\n"
     ]
    },
    {
     "name": "stdout",
     "output_type": "stream",
     "text": [
      "Accuracy: 73.57 %\n",
      "Time: 5.79 seconds\n"
     ]
    }
   ],
   "source": [
    "# !pip install lightgbm\n",
    "import lightgbm as lgb\n",
    "start = time.time() # 시작 시간 지정\n",
    "lgb_dtrain = lgb.Dataset(data = train_x, label = train_y) # 학습 데이터를 LightGBM 모델에 맞게 변환\n",
    "lgb_param = {'max_depth': 10, # 트리 깊이\n",
    "            'learning_rate': 0.01, # Step Size\n",
    "            'n_estimators': 100, # Number of trees, 트리 생성 개수\n",
    "            'objective': 'multiclass', # 목적 함수\n",
    "            'num_class': len(set(train_y)) + 1} # 파라미터 추가, Label must be in [0, num_class) -> num_class보다 1 커야한다.\n",
    "lgb_model = lgb.train(params = lgb_param, train_set = lgb_dtrain) # 학습 진행\n",
    "lgb_model_predict = np.argmax(lgb_model.predict(test_x), axis = 1) # 평가 데이터 예측, Softmax의 결과값 중 가장 큰 값의 Label로 예측\n",
    "print(\"Accuracy: %.2f\" % (accuracy_score(test_y, lgb_model_predict) * 100), \"%\") # 정확도 % 계산\n",
    "print(\"Time: %.2f\" % (time.time() - start), \"seconds\") # 코드 실행 시간 계산"
   ]
  },
  {
   "cell_type": "markdown",
   "metadata": {},
   "source": [
    "## 3. Catboost"
   ]
  },
  {
   "cell_type": "code",
   "execution_count": 11,
   "metadata": {
    "scrolled": true
   },
   "outputs": [
    {
     "name": "stdout",
     "output_type": "stream",
     "text": [
      "0:\tlearn: 0.6114702\ttotal: 671ms\tremaining: 1m 6s\n",
      "1:\tlearn: 0.6235304\ttotal: 1.25s\tremaining: 1m 1s\n",
      "2:\tlearn: 0.6410246\ttotal: 1.83s\tremaining: 59.2s\n",
      "3:\tlearn: 0.6410650\ttotal: 2.42s\tremaining: 58.1s\n",
      "4:\tlearn: 0.6442770\ttotal: 3.01s\tremaining: 57.3s\n",
      "5:\tlearn: 0.6455901\ttotal: 3.61s\tremaining: 56.5s\n",
      "6:\tlearn: 0.6468224\ttotal: 4.21s\tremaining: 55.9s\n",
      "7:\tlearn: 0.6484991\ttotal: 4.82s\tremaining: 55.4s\n",
      "8:\tlearn: 0.6512666\ttotal: 5.42s\tremaining: 54.8s\n",
      "9:\tlearn: 0.6491859\ttotal: 6.03s\tremaining: 54.2s\n",
      "10:\tlearn: 0.6517716\ttotal: 6.6s\tremaining: 53.4s\n",
      "11:\tlearn: 0.6526807\ttotal: 7.2s\tremaining: 52.8s\n",
      "12:\tlearn: 0.6531655\ttotal: 7.78s\tremaining: 52.1s\n",
      "13:\tlearn: 0.6537918\ttotal: 8.36s\tremaining: 51.4s\n",
      "14:\tlearn: 0.6566603\ttotal: 8.96s\tremaining: 50.8s\n",
      "15:\tlearn: 0.6563573\ttotal: 9.57s\tremaining: 50.3s\n",
      "16:\tlearn: 0.6582966\ttotal: 10.2s\tremaining: 49.7s\n",
      "17:\tlearn: 0.6591047\ttotal: 10.7s\tremaining: 48.9s\n",
      "18:\tlearn: 0.6597309\ttotal: 11.3s\tremaining: 48.3s\n",
      "19:\tlearn: 0.6603572\ttotal: 11.9s\tremaining: 47.6s\n",
      "20:\tlearn: 0.6593067\ttotal: 12.5s\tremaining: 47.1s\n",
      "21:\tlearn: 0.6603976\ttotal: 13.1s\tremaining: 46.6s\n",
      "22:\tlearn: 0.6602966\ttotal: 13.7s\tremaining: 46s\n",
      "23:\tlearn: 0.6606804\ttotal: 14.4s\tremaining: 45.6s\n",
      "24:\tlearn: 0.6612258\ttotal: 15s\tremaining: 45s\n",
      "25:\tlearn: 0.6604178\ttotal: 15.6s\tremaining: 44.3s\n",
      "26:\tlearn: 0.6616702\ttotal: 16.2s\tremaining: 43.7s\n",
      "27:\tlearn: 0.6636904\ttotal: 16.8s\tremaining: 43.1s\n",
      "28:\tlearn: 0.6640540\ttotal: 17.3s\tremaining: 42.5s\n",
      "29:\tlearn: 0.6648620\ttotal: 17.9s\tremaining: 41.8s\n",
      "30:\tlearn: 0.6652660\ttotal: 18.5s\tremaining: 41.2s\n",
      "31:\tlearn: 0.6653469\ttotal: 19.1s\tremaining: 40.6s\n",
      "32:\tlearn: 0.6663165\ttotal: 19.7s\tremaining: 39.9s\n",
      "33:\tlearn: 0.6674478\ttotal: 20.3s\tremaining: 39.3s\n",
      "34:\tlearn: 0.6675084\ttotal: 20.8s\tremaining: 38.7s\n",
      "35:\tlearn: 0.6675488\ttotal: 21.4s\tremaining: 38.1s\n",
      "36:\tlearn: 0.6690033\ttotal: 22s\tremaining: 37.5s\n",
      "37:\tlearn: 0.6692659\ttotal: 22.6s\tremaining: 36.9s\n",
      "38:\tlearn: 0.6702759\ttotal: 23.2s\tremaining: 36.3s\n",
      "39:\tlearn: 0.6704982\ttotal: 23.8s\tremaining: 35.7s\n",
      "40:\tlearn: 0.6707608\ttotal: 24.4s\tremaining: 35.1s\n",
      "41:\tlearn: 0.6712052\ttotal: 24.9s\tremaining: 34.4s\n",
      "42:\tlearn: 0.6714274\ttotal: 25.5s\tremaining: 33.8s\n",
      "43:\tlearn: 0.6715082\ttotal: 26.1s\tremaining: 33.3s\n",
      "44:\tlearn: 0.6715890\ttotal: 26.7s\tremaining: 32.7s\n",
      "45:\tlearn: 0.6718112\ttotal: 27.3s\tremaining: 32.1s\n",
      "46:\tlearn: 0.6716900\ttotal: 27.9s\tremaining: 31.5s\n",
      "47:\tlearn: 0.6719324\ttotal: 28.5s\tremaining: 30.8s\n",
      "48:\tlearn: 0.6730839\ttotal: 29s\tremaining: 30.2s\n",
      "49:\tlearn: 0.6735889\ttotal: 29.6s\tremaining: 29.6s\n",
      "50:\tlearn: 0.6738314\ttotal: 30.2s\tremaining: 29.1s\n",
      "51:\tlearn: 0.6740940\ttotal: 30.8s\tremaining: 28.4s\n",
      "52:\tlearn: 0.6746192\ttotal: 31.4s\tremaining: 27.9s\n",
      "53:\tlearn: 0.6750434\ttotal: 32s\tremaining: 27.3s\n",
      "54:\tlearn: 0.6750636\ttotal: 32.6s\tremaining: 26.7s\n",
      "55:\tlearn: 0.6753465\ttotal: 33.2s\tremaining: 26.1s\n",
      "56:\tlearn: 0.6760939\ttotal: 33.8s\tremaining: 25.5s\n",
      "57:\tlearn: 0.6768615\ttotal: 34.4s\tremaining: 24.9s\n",
      "58:\tlearn: 0.6769019\ttotal: 35s\tremaining: 24.3s\n",
      "59:\tlearn: 0.6777908\ttotal: 35.6s\tremaining: 23.7s\n",
      "60:\tlearn: 0.6780534\ttotal: 36.2s\tremaining: 23.1s\n",
      "61:\tlearn: 0.6791241\ttotal: 36.7s\tremaining: 22.5s\n",
      "62:\tlearn: 0.6796089\ttotal: 37.3s\tremaining: 21.9s\n",
      "63:\tlearn: 0.6798715\ttotal: 37.9s\tremaining: 21.3s\n",
      "64:\tlearn: 0.6802351\ttotal: 38.5s\tremaining: 20.7s\n",
      "65:\tlearn: 0.6805180\ttotal: 39s\tremaining: 20.1s\n",
      "66:\tlearn: 0.6803361\ttotal: 39.6s\tremaining: 19.5s\n",
      "67:\tlearn: 0.6812048\ttotal: 40.2s\tremaining: 18.9s\n",
      "68:\tlearn: 0.6817906\ttotal: 40.8s\tremaining: 18.3s\n",
      "69:\tlearn: 0.6819320\ttotal: 41.4s\tremaining: 17.7s\n",
      "70:\tlearn: 0.6827805\ttotal: 42s\tremaining: 17.2s\n",
      "71:\tlearn: 0.6829219\ttotal: 42.6s\tremaining: 16.6s\n",
      "72:\tlearn: 0.6827401\ttotal: 43.2s\tremaining: 16s\n",
      "73:\tlearn: 0.6831239\ttotal: 43.8s\tremaining: 15.4s\n",
      "74:\tlearn: 0.6833057\ttotal: 44.3s\tremaining: 14.8s\n",
      "75:\tlearn: 0.6841340\ttotal: 44.9s\tremaining: 14.2s\n",
      "76:\tlearn: 0.6846390\ttotal: 45.5s\tremaining: 13.6s\n",
      "77:\tlearn: 0.6854471\ttotal: 46.1s\tremaining: 13s\n",
      "78:\tlearn: 0.6862551\ttotal: 46.7s\tremaining: 12.4s\n",
      "79:\tlearn: 0.6872450\ttotal: 47.3s\tremaining: 11.8s\n",
      "80:\tlearn: 0.6875278\ttotal: 47.9s\tremaining: 11.2s\n",
      "81:\tlearn: 0.6883560\ttotal: 48.4s\tremaining: 10.6s\n",
      "82:\tlearn: 0.6879722\ttotal: 49s\tremaining: 10s\n",
      "83:\tlearn: 0.6887196\ttotal: 49.6s\tremaining: 9.45s\n",
      "84:\tlearn: 0.6889419\ttotal: 50.2s\tremaining: 8.86s\n",
      "85:\tlearn: 0.6893459\ttotal: 50.8s\tremaining: 8.27s\n",
      "86:\tlearn: 0.6894671\ttotal: 51.3s\tremaining: 7.67s\n",
      "87:\tlearn: 0.6896691\ttotal: 51.9s\tremaining: 7.08s\n",
      "88:\tlearn: 0.6900327\ttotal: 52.5s\tremaining: 6.49s\n",
      "89:\tlearn: 0.6903963\ttotal: 53.1s\tremaining: 5.9s\n",
      "90:\tlearn: 0.6911236\ttotal: 53.7s\tremaining: 5.31s\n",
      "91:\tlearn: 0.6913054\ttotal: 54.3s\tremaining: 4.72s\n",
      "92:\tlearn: 0.6913458\ttotal: 54.9s\tremaining: 4.13s\n",
      "93:\tlearn: 0.6919720\ttotal: 55.5s\tremaining: 3.54s\n",
      "94:\tlearn: 0.6920326\ttotal: 56s\tremaining: 2.95s\n",
      "95:\tlearn: 0.6926185\ttotal: 56.6s\tremaining: 2.36s\n",
      "96:\tlearn: 0.6929619\ttotal: 57.2s\tremaining: 1.77s\n",
      "97:\tlearn: 0.6932245\ttotal: 57.8s\tremaining: 1.18s\n",
      "98:\tlearn: 0.6937093\ttotal: 58.4s\tremaining: 590ms\n",
      "99:\tlearn: 0.6940124\ttotal: 59s\tremaining: 0us\n",
      "Accuracy: 69.49 %\n",
      "Time: 59.73 seconds\n"
     ]
    }
   ],
   "source": [
    "# !pip install catboost\n",
    "import catboost as cb\n",
    "start = time.time() # 시작 시간 지정\n",
    "cb_dtrain = cb.Pool(data = train_x, label = train_y) # 학습 데이터를 Catboost 모델에 맞게 변환\n",
    "cb_param = {'max_depth': 10, # 트리 깊이\n",
    "            'learning_rate': 0.01, # Step Size\n",
    "            'n_estimators': 100, # Number of trees, 트리 생성 개수\n",
    "            'eval_metric': 'Accuracy', # 평가 척도\n",
    "            'loss_function': 'MultiClass'} # 손실 함수, 목적 함수\n",
    "cb_model = cb.train(pool = cb_dtrain, params = cb_param) # 학습 진행\n",
    "cb_model_predict = np.argmax(cb_model.predict(test_x), axis = 1) + 1 # 평가 데이터 예측, Softmax의 결과값 중 가장 큰 값의 Label로 예측, 인덱스의 순서를 맞추기 위해 +1\n",
    "print(\"Accuracy: %.2f\" % (accuracy_score(test_y, cb_model_predict) * 100), \"%\") # 정확도 % 계산\n",
    "print(\"Time: %.2f\" % (time.time() - start), \"seconds\") # 코드 실행 시간 계산"
   ]
  },
  {
   "cell_type": "code",
   "execution_count": null,
   "metadata": {},
   "outputs": [],
   "source": []
  }
 ],
 "metadata": {
  "kernelspec": {
   "display_name": "Python 3",
   "language": "python",
   "name": "python3"
  },
  "language_info": {
   "codemirror_mode": {
    "name": "ipython",
    "version": 3
   },
   "file_extension": ".py",
   "mimetype": "text/x-python",
   "name": "python",
   "nbconvert_exporter": "python",
   "pygments_lexer": "ipython3",
   "version": "3.6.5"
  }
 },
 "nbformat": 4,
 "nbformat_minor": 2
}
